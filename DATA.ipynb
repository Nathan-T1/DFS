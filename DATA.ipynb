{
 "cells": [
  {
   "cell_type": "code",
   "execution_count": 4,
   "metadata": {},
   "outputs": [],
   "source": [
    "import numpy as np\n",
    "import pandas as pd\n",
    "import requests\n",
    "from tqdm import tqdm\n",
    "from bs4 import BeautifulSoup as bs\n",
    "import json\n",
    "import re\n",
    "\n",
    "\n",
    "pd.set_option('display.max_columns', None)\n"
   ]
  },
  {
   "cell_type": "code",
   "execution_count": 5,
   "metadata": {},
   "outputs": [],
   "source": [
    "def get_months(year_soup, year):\n",
    "    month_links = []\n",
    "    for link in year_soup.find_all('a'):\n",
    "        if \"/leagues/NBA_{}_games-\".format(year) in link['href']:\n",
    "            month_links.append(link['href'])\n",
    "            \n",
    "    return month_links\n",
    "\n",
    "def get_box_scores(month):\n",
    "    url = \"https://www.basketball-reference.com\" + month\n",
    "    html_text = requests.get(url).text\n",
    "    month_page_soup = bs(html_text)\n",
    "\n",
    "    box_scores_links = []\n",
    "    for link in month_page_soup.find_all('a'):\n",
    "        if \"/boxscores/2\" in link['href']:\n",
    "            box_scores_links.append(link['href'])\n",
    "\n",
    "    return box_scores_links\n",
    "\n",
    "def get_bs_soup(game):\n",
    "    \n",
    "    date = game[11:19]\n",
    "    url = \"https://www.basketball-reference.com\" + game\n",
    "    html_text = requests.get(url).text\n",
    "    game_page_soup = bs(html_text)\n",
    "\n",
    "    #Get home and away team\n",
    "    a_tags = game_page_soup.find_all('a')\n",
    "    href_tags = []\n",
    "    for tag in a_tags:\n",
    "        try:\n",
    "            if \"/teams/\" in tag['href']:\n",
    "                href_tags.append(tag['href'])\n",
    "        except:\n",
    "            pass\n",
    "\n",
    "    href_tags = href_tags[1:3]\n",
    "    home = href_tags[1][7:10]\n",
    "    away = href_tags[0][7:10]\n",
    "    \n",
    "\n",
    "    return game_page_soup, home, away, date\n",
    "\n",
    "def parse_box_score(soup, home, away, date):\n",
    "    \n",
    "    away_advance_html = soup.find_all('table', id = \"box-{}-game-advanced\".format(away))\n",
    "    away_basic_html = soup.find_all('table', id = \"box-{}-game-basic\".format(away))\n",
    "    home_advance_html = soup.find_all('table', id = \"box-{}-game-advanced\".format(home))\n",
    "    home_basic_html = soup.find_all('table', id = \"box-{}-game-basic\".format(home))\n",
    "\n",
    "\n",
    "    away_advance = pd.read_html(str(away_advance_html))[0]\n",
    "    away_basic = pd.read_html(str(away_basic_html))[0]\n",
    "    home_advance = pd.read_html(str(home_advance_html))[0]\n",
    "    home_basic = pd.read_html(str(home_basic_html))[0]\n",
    "\n",
    "    dfs = [home_basic, home_advance, away_basic, away_advance]\n",
    "    for df in dfs:\n",
    "        df.columns = df.columns.droplevel(0)\n",
    "    del dfs[1]['MP']\n",
    "    del dfs[3]['MP']\n",
    "        \n",
    "    df_home = pd.concat([dfs[0].set_index('Starters'),dfs[1].set_index('Starters')], axis=1, join='inner')\n",
    "    df_away = pd.concat([dfs[2].set_index('Starters'),dfs[3].set_index('Starters')], axis=1, join='inner')\n",
    "    \n",
    "    game_dict = {}\n",
    "    game_dict[home] = {}\n",
    "    game_dict[away] = {}\n",
    "    \n",
    "    teams = [home, away]\n",
    "    for num, df in enumerate([df_home, df_away]):\n",
    "        starters = df.iloc[:5]\n",
    "        reserves = df.iloc[6:-1]\n",
    "\n",
    "        for index, row in starters.iterrows():\n",
    "            try:\n",
    "                game_dict[teams[num]][index] = [float(i) for i in list(row.values[1:])]\n",
    "                game_dict[teams[num]][index] += [row.values[0], 1]\n",
    "            except Exception as e:\n",
    "                game_dict[teams[num]][index] = [row.values[0]]\n",
    "            \n",
    "\n",
    "\n",
    "        for index, row in reserves.iterrows():\n",
    "            try:\n",
    "                game_dict[teams[num]][index] = [float(i) for i in list(row.values[1:])]\n",
    "                game_dict[teams[num]][index] += [row.values[0], 0]\n",
    "            except Exception as e:\n",
    "                game_dict[teams[num]][index] = [row.values[0]]\n",
    "\n",
    "    game_dict[home][\"Team\"] =  [float(i) for i in list(df_home.tail(1).values[0])]\n",
    "    game_dict[away][\"Team\"] =  [float(i) for i in list(df_away.tail(1).values[0])]\n",
    "        \n",
    "    \n",
    "    home_players = list(game_dict[home].keys())\n",
    "    players_game = home_players + list(game_dict[away].keys())\n",
    "\n",
    "    players_total = []\n",
    "    for link in soup.find_all('a'):\n",
    "        try:\n",
    "            if 'players' in link['href']:\n",
    "                players_total.append(link.text)\n",
    "        except:\n",
    "            pass\n",
    "\n",
    "    for i, j in enumerate(players_total):\n",
    "        if j == 'Players':\n",
    "            if i != 0:\n",
    "                break\n",
    "    players_total = players_total[:217]\n",
    "\n",
    "    inactive = []\n",
    "    for player in players_total:\n",
    "        if player not in players_game and player != \"Players\":\n",
    "            if len(player.split('.')[0]) != 1:\n",
    "                inactive.append(player)\n",
    "    game_dict['Inactive'] = {}\n",
    "    game_dict['Inactive'] = inactive\n",
    "    \n",
    "    return game_dict"
   ]
  },
  {
   "cell_type": "code",
   "execution_count": 6,
   "metadata": {},
   "outputs": [
    {
     "name": "stderr",
     "output_type": "stream",
     "text": [
      "\r",
      "  0%|                                                                                         | 0/67 [00:00<?, ?it/s]"
     ]
    },
    {
     "name": "stdout",
     "output_type": "stream",
     "text": [
      "december\n"
     ]
    },
    {
     "name": "stderr",
     "output_type": "stream",
     "text": [
      "100%|████████████████████████████████████████████████████████████████████████████████| 67/67 [00:33<00:00,  2.01it/s]\n",
      "  0%|                                                                                         | 0/33 [00:00<?, ?it/s]"
     ]
    },
    {
     "name": "stdout",
     "output_type": "stream",
     "text": [
      "january\n"
     ]
    },
    {
     "name": "stderr",
     "output_type": "stream",
     "text": [
      "100%|████████████████████████████████████████████████████████████████████████████████| 33/33 [00:15<00:00,  2.08it/s]\n",
      "0it [00:00, ?it/s]"
     ]
    },
    {
     "name": "stdout",
     "output_type": "stream",
     "text": [
      "february\n"
     ]
    },
    {
     "name": "stderr",
     "output_type": "stream",
     "text": [
      "\n",
      "0it [00:00, ?it/s]"
     ]
    },
    {
     "name": "stdout",
     "output_type": "stream",
     "text": [
      "march\n"
     ]
    },
    {
     "name": "stderr",
     "output_type": "stream",
     "text": [
      "\n"
     ]
    }
   ],
   "source": [
    "def main(year):\n",
    "    main_json = {}\n",
    "    \n",
    "    url = \"https://www.basketball-reference.com/leagues/NBA_{}_games.html\".format(year)\n",
    "    html_text = requests.get(url).text\n",
    "    main_page_soup = bs(html_text)\n",
    "    month_links = get_months(main_page_soup, year)\n",
    "    \n",
    "    for month in month_links:\n",
    "        \n",
    "        box_score_links = get_box_scores(month)\n",
    "        month = month.split(\".\")[0].split(\"-\")[-1]\n",
    "        print(month)\n",
    "        main_json[month] = {}\n",
    "\n",
    "        for box_score_link in tqdm(box_score_links):\n",
    "\n",
    "            game_page_soup, home, away, date = get_bs_soup(box_score_link)\n",
    "            try:\n",
    "                main_json[month][date]\n",
    "            except:\n",
    "                main_json[month][date] = {}\n",
    "            game_json = parse_box_score(game_page_soup, home, away, date)\n",
    "            main_json[month][date][home] = game_json\n",
    "\n",
    "    \n",
    "    return main_json\n",
    "\n",
    "    \n",
    "year = '2021'\n",
    "main_json = main(year)\n",
    "\n",
    "with open('{}.json'.format(year), 'w') as fp:\n",
    "    json.dump(main_json, fp)\n",
    "    "
   ]
  }
 ],
 "metadata": {
  "kernelspec": {
   "display_name": "Python 3",
   "language": "python",
   "name": "python3"
  },
  "language_info": {
   "codemirror_mode": {
    "name": "ipython",
    "version": 3
   },
   "file_extension": ".py",
   "mimetype": "text/x-python",
   "name": "python",
   "nbconvert_exporter": "python",
   "pygments_lexer": "ipython3",
   "version": "3.8.6"
  }
 },
 "nbformat": 4,
 "nbformat_minor": 4
}
